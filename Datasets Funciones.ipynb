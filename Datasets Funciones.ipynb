{
 "cells": [
  {
   "cell_type": "markdown",
   "metadata": {},
   "source": [
    "#### Con el afán de optimizar el funcionamiento de la API voy a crear datasets específicos para las funciones que lo necesiten."
   ]
  },
  {
   "cell_type": "code",
   "execution_count": 1,
   "metadata": {},
   "outputs": [],
   "source": [
    "import pandas as pd"
   ]
  },
  {
   "cell_type": "code",
   "execution_count": 2,
   "metadata": {},
   "outputs": [],
   "source": [
    "steam_games = pd.read_csv('./datasets/steam_games.csv')\n",
    "user_review = pd.read_csv('./datasets/user_reviews.csv')\n",
    "user_items = pd.read_csv(f'./datasets/user_items_comp_csv.gz', compression='gzip')"
   ]
  },
  {
   "cell_type": "markdown",
   "metadata": {},
   "source": [
    "### User For Genre"
   ]
  },
  {
   "cell_type": "code",
   "execution_count": 4,
   "metadata": {},
   "outputs": [],
   "source": [
    "user_items['id'] = user_items['id'].astype(int)\n",
    "generos = steam_games.drop(columns=['app_name','price','id','developer','Year','Accounting'])\n",
    "\n",
    "# Unimos 2 datasets usando 'item_name' y 'app_name' como la clave\n",
    "gener_user = pd.merge(user_items[['id','playtime_forever','user_id']],steam_games,left_on='id',right_on='id',how='inner')\n",
    "\n",
    "# Inicializamos un arreglo vacío para almacenar los resultados\n",
    "resultados_por_genero = []\n",
    "for genero in generos.columns:\n",
    "    # Filtramos las filas que corresponden al género actual\n",
    "    genero_data = gener_user[gener_user[genero] == 1]\n",
    "\n",
    "    # Comprobamos si existen filas que correspondan al género actual\n",
    "    if not genero_data.empty:\n",
    "        # Encontramos el usuario que tiene el valor maximo de 'playtime_forever' para el género actual\n",
    "        user_max = genero_data.groupby('user_id')['playtime_forever'].sum().div(60).idxmax() # Divido por 60 ya que esta en minitus\n",
    "        # Agrupamos los datos por año y calculamos la suma de 'playtime_forever'\n",
    "        result_df = genero_data[genero_data['user_id'] == user_max].groupby('Year')['playtime_forever'].sum().reset_index()\n",
    "        # Reformateamos los resultados\n",
    "        formatted_result = [{'Año': record['Year'], 'Horas': record['playtime_forever']} for _, record in result_df.iterrows()]\n",
    "        # Agregamos los resultados al arreglo\n",
    "        resultados_por_genero.append({'Género': genero, 'Usuario': user_max, 'Año_Horas': formatted_result})\n",
    "    else:\n",
    "        # Si no existen filas que correspondan al género, solo incluimos el genero y el valor nulo para 'usuario' y un arreglo vacío para 'Año_Horas'\n",
    "        resultados_por_genero.append({'Género': genero, 'Usuario': None, 'Año_Horas': []})\n",
    "        \n",
    "# Convertimos los resultados en un DataFrame\n",
    "df_resultados = pd.DataFrame(resultados_por_genero)\n",
    "\n",
    "# Eliminamos las filas con valores faltantes\n",
    "df_resultados.dropna(inplace=True)\n",
    "\n",
    "# Guardamos los resultados en un archivo csv\n",
    "df_resultados.to_csv('./Datasets/userForGenre.csv',index=False)"
   ]
  }
 ],
 "metadata": {
  "kernelspec": {
   "display_name": "Python 3",
   "language": "python",
   "name": "python3"
  },
  "language_info": {
   "codemirror_mode": {
    "name": "ipython",
    "version": 3
   },
   "file_extension": ".py",
   "mimetype": "text/x-python",
   "name": "python",
   "nbconvert_exporter": "python",
   "pygments_lexer": "ipython3",
   "version": "3.11.7"
  }
 },
 "nbformat": 4,
 "nbformat_minor": 2
}
