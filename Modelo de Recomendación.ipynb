{
 "cells": [
  {
   "cell_type": "markdown",
   "metadata": {},
   "source": [
    "### Modelo de recomendación"
   ]
  },
  {
   "cell_type": "code",
   "execution_count": 73,
   "metadata": {},
   "outputs": [],
   "source": [
    "# -*- coding: utf-8 -*-\n",
    "import pandas as pd\n",
    "from sklearn.feature_extraction.text import CountVectorizer\n",
    "from sklearn.metrics.pairwise import cosine_similarity"
   ]
  },
  {
   "cell_type": "code",
   "execution_count": 3,
   "metadata": {},
   "outputs": [],
   "source": [
    "# Cargar el dataset\n",
    "steam_games = pd.read_csv('./datasets/steam_games.csv')"
   ]
  },
  {
   "cell_type": "code",
   "execution_count": 7,
   "metadata": {},
   "outputs": [
    {
     "name": "stderr",
     "output_type": "stream",
     "text": [
      "C:\\Users\\daant\\AppData\\Local\\Temp\\ipykernel_13208\\1209921510.py:5: SettingWithCopyWarning: \n",
      "A value is trying to be set on a copy of a slice from a DataFrame.\n",
      "Try using .loc[row_indexer,col_indexer] = value instead\n",
      "\n",
      "See the caveats in the documentation: https://pandas.pydata.org/pandas-docs/stable/user_guide/indexing.html#returning-a-view-versus-a-copy\n",
      "  df['id'] = df['id'].astype(int)\n",
      "C:\\Users\\daant\\AppData\\Local\\Temp\\ipykernel_13208\\1209921510.py:8: SettingWithCopyWarning: \n",
      "A value is trying to be set on a copy of a slice from a DataFrame.\n",
      "Try using .loc[row_indexer,col_indexer] = value instead\n",
      "\n",
      "See the caveats in the documentation: https://pandas.pydata.org/pandas-docs/stable/user_guide/indexing.html#returning-a-view-versus-a-copy\n",
      "  df['genres'] = df['genres'].apply(lambda x: str(x).replace('.', ''))\n"
     ]
    }
   ],
   "source": [
    "# Uso las columnas necesarias\n",
    "df = steam_games[['genres','id','app_name']]\n",
    "\n",
    "# Me aseguro que 'id' sea de tipo entero\n",
    "df['id'] = df['id'].astype(int)\n",
    "\n",
    "# Limpio la columna 'genres'\n",
    "df['genres'] = df['genres'].apply(lambda x: str(x).replace('.', ''))"
   ]
  },
  {
   "cell_type": "code",
   "execution_count": 10,
   "metadata": {},
   "outputs": [],
   "source": [
    "# Voy a utilizar el Vectorizador de texto para convertir la columnas genres en vectores numéricos.\n",
    "cv = CountVectorizer()\n",
    "vectores = cv.fit_transform(df['genres']).toarray()"
   ]
  },
  {
   "cell_type": "code",
   "execution_count": 11,
   "metadata": {},
   "outputs": [],
   "source": [
    "# Cálculo de la Similitud del Coseno entre Vectores con el fin de evaluar la similitud entre los vectores numéricos de diferentes juegos.\n",
    "similitud = cosine_similarity(vectores)"
   ]
  },
  {
   "cell_type": "code",
   "execution_count": 16,
   "metadata": {},
   "outputs": [],
   "source": [
    "# Generar una función para obtener recomendaciones por título\n",
    "def recomendacion(juego):\n",
    "    #Se busca el índice del juego en el DataFrame original (df). Este índice es utilizado para acceder a la fila correspondiente en la matriz de similitud.\n",
    "    indice_juego = df[df[\"id\"] == juego].index[0]\n",
    "    \n",
    "    #Cálculo de Similitudes: Se obtienen las distancias de similitud entre el juego de entrada y todos los demás juegos en el conjunto de datos. \n",
    "    distances = similitud[indice_juego]\n",
    "    \n",
    "    #Las distancias se ordenan de manera descendente, y se seleccionan los cinco juegos más similares (excluyendo el juego de entrada)\n",
    "    lista_juegos = sorted(list(enumerate(distances)), reverse=True, key=lambda x: x[1])[1:6]\n",
    "    \n",
    "    #Salida. Devuelve la lista de títulos recomendados.\n",
    "    recommended_titles = [df.iloc[i[0]]['app_name'] for i in lista_juegos]\n",
    "    \n",
    "    return recommended_titles"
   ]
  },
  {
   "cell_type": "code",
   "execution_count": 17,
   "metadata": {},
   "outputs": [
    {
     "name": "stderr",
     "output_type": "stream",
     "text": [
      "C:\\Users\\daant\\AppData\\Local\\Temp\\ipykernel_13208\\3283681334.py:2: SettingWithCopyWarning: \n",
      "A value is trying to be set on a copy of a slice from a DataFrame.\n",
      "Try using .loc[row_indexer,col_indexer] = value instead\n",
      "\n",
      "See the caveats in the documentation: https://pandas.pydata.org/pandas-docs/stable/user_guide/indexing.html#returning-a-view-versus-a-copy\n",
      "  df['Recomendaciones'] = df['id'].apply(recomendacion)\n"
     ]
    }
   ],
   "source": [
    "# Aplicar la función a la columna 'item_id' y crear una nueva columna 'Recomendaciones'\n",
    "df['Recomendaciones'] = df['id'].apply(recomendacion)"
   ]
  },
  {
   "cell_type": "code",
   "execution_count": 18,
   "metadata": {},
   "outputs": [
    {
     "name": "stderr",
     "output_type": "stream",
     "text": [
      "C:\\Users\\daant\\AppData\\Local\\Temp\\ipykernel_13208\\2484515945.py:2: SettingWithCopyWarning: \n",
      "A value is trying to be set on a copy of a slice from a DataFrame\n",
      "\n",
      "See the caveats in the documentation: https://pandas.pydata.org/pandas-docs/stable/user_guide/indexing.html#returning-a-view-versus-a-copy\n",
      "  df.drop(columns=['app_name', 'genres'], inplace=True)\n"
     ]
    },
    {
     "data": {
      "text/html": [
       "<div>\n",
       "<style scoped>\n",
       "    .dataframe tbody tr th:only-of-type {\n",
       "        vertical-align: middle;\n",
       "    }\n",
       "\n",
       "    .dataframe tbody tr th {\n",
       "        vertical-align: top;\n",
       "    }\n",
       "\n",
       "    .dataframe thead th {\n",
       "        text-align: right;\n",
       "    }\n",
       "</style>\n",
       "<table border=\"1\" class=\"dataframe\">\n",
       "  <thead>\n",
       "    <tr style=\"text-align: right;\">\n",
       "      <th></th>\n",
       "      <th>id</th>\n",
       "      <th>Recomendaciones</th>\n",
       "    </tr>\n",
       "  </thead>\n",
       "  <tbody>\n",
       "    <tr>\n",
       "      <th>0</th>\n",
       "      <td>761140</td>\n",
       "      <td>[Pixel Puzzles 2: Anime, World of Cinema - Dir...</td>\n",
       "    </tr>\n",
       "    <tr>\n",
       "      <th>1</th>\n",
       "      <td>643980</td>\n",
       "      <td>[Shadow Hunter, Immortal Empire, Immortal Empi...</td>\n",
       "    </tr>\n",
       "    <tr>\n",
       "      <th>2</th>\n",
       "      <td>670290</td>\n",
       "      <td>[Snooker-online multiplayer snooker game!, Mal...</td>\n",
       "    </tr>\n",
       "    <tr>\n",
       "      <th>3</th>\n",
       "      <td>767400</td>\n",
       "      <td>[Atomic Adam: Episode 1, Biozone, Luxor: 5th P...</td>\n",
       "    </tr>\n",
       "    <tr>\n",
       "      <th>4</th>\n",
       "      <td>772540</td>\n",
       "      <td>[Bully: Scholarship Edition, The Tomorrow War,...</td>\n",
       "    </tr>\n",
       "    <tr>\n",
       "      <th>...</th>\n",
       "      <td>...</td>\n",
       "      <td>...</td>\n",
       "    </tr>\n",
       "    <tr>\n",
       "      <th>27829</th>\n",
       "      <td>745400</td>\n",
       "      <td>[Foul Play, Bloody Trapland, BattleBlock Theat...</td>\n",
       "    </tr>\n",
       "    <tr>\n",
       "      <th>27830</th>\n",
       "      <td>773640</td>\n",
       "      <td>[Eets Munchies, Wildlife Park 3, Showtime!, Sm...</td>\n",
       "    </tr>\n",
       "    <tr>\n",
       "      <th>27831</th>\n",
       "      <td>733530</td>\n",
       "      <td>[Puzzler World 2, iBomber Defense Pacific, Bum...</td>\n",
       "    </tr>\n",
       "    <tr>\n",
       "      <th>27832</th>\n",
       "      <td>610660</td>\n",
       "      <td>[Try Hard Parking, Car Mechanic Simulator 2015...</td>\n",
       "    </tr>\n",
       "    <tr>\n",
       "      <th>27833</th>\n",
       "      <td>658870</td>\n",
       "      <td>[Zen of Sudoku, Gumboy - Crazy Adventures™, Ni...</td>\n",
       "    </tr>\n",
       "  </tbody>\n",
       "</table>\n",
       "<p>27834 rows × 2 columns</p>\n",
       "</div>"
      ],
      "text/plain": [
       "           id                                    Recomendaciones\n",
       "0      761140  [Pixel Puzzles 2: Anime, World of Cinema - Dir...\n",
       "1      643980  [Shadow Hunter, Immortal Empire, Immortal Empi...\n",
       "2      670290  [Snooker-online multiplayer snooker game!, Mal...\n",
       "3      767400  [Atomic Adam: Episode 1, Biozone, Luxor: 5th P...\n",
       "4      772540  [Bully: Scholarship Edition, The Tomorrow War,...\n",
       "...       ...                                                ...\n",
       "27829  745400  [Foul Play, Bloody Trapland, BattleBlock Theat...\n",
       "27830  773640  [Eets Munchies, Wildlife Park 3, Showtime!, Sm...\n",
       "27831  733530  [Puzzler World 2, iBomber Defense Pacific, Bum...\n",
       "27832  610660  [Try Hard Parking, Car Mechanic Simulator 2015...\n",
       "27833  658870  [Zen of Sudoku, Gumboy - Crazy Adventures™, Ni...\n",
       "\n",
       "[27834 rows x 2 columns]"
      ]
     },
     "execution_count": 18,
     "metadata": {},
     "output_type": "execute_result"
    }
   ],
   "source": [
    "# Elimino columnas para disminuir el tamaño del archivo\n",
    "df.drop(columns=['app_name', 'genres'], inplace=True)\n",
    "df"
   ]
  },
  {
   "cell_type": "code",
   "execution_count": 19,
   "metadata": {},
   "outputs": [],
   "source": [
    "# Guardar el DataFrame en un archivo CSV\n",
    "df.to_csv('./datasets/sisRecomendacion.csv', index=False)"
   ]
  }
 ],
 "metadata": {
  "kernelspec": {
   "display_name": "Python 3",
   "language": "python",
   "name": "python3"
  },
  "language_info": {
   "codemirror_mode": {
    "name": "ipython",
    "version": 3
   },
   "file_extension": ".py",
   "mimetype": "text/x-python",
   "name": "python",
   "nbconvert_exporter": "python",
   "pygments_lexer": "ipython3",
   "version": "3.11.7"
  }
 },
 "nbformat": 4,
 "nbformat_minor": 2
}
